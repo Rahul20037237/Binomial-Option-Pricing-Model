{
 "cells": [
  {
   "cell_type": "code",
   "execution_count": 3,
   "id": "035acb6c-5adb-4231-ae6e-cda876746e89",
   "metadata": {},
   "outputs": [
    {
     "data": {
      "text/html": [
       "<div>\n",
       "<style scoped>\n",
       "    .dataframe tbody tr th:only-of-type {\n",
       "        vertical-align: middle;\n",
       "    }\n",
       "\n",
       "    .dataframe tbody tr th {\n",
       "        vertical-align: top;\n",
       "    }\n",
       "\n",
       "    .dataframe thead th {\n",
       "        text-align: right;\n",
       "    }\n",
       "</style>\n",
       "<table border=\"1\" class=\"dataframe\">\n",
       "  <thead>\n",
       "    <tr style=\"text-align: right;\">\n",
       "      <th></th>\n",
       "      <th>Date</th>\n",
       "      <th>Symbol</th>\n",
       "      <th>Series</th>\n",
       "      <th>Prev Close</th>\n",
       "      <th>Open</th>\n",
       "      <th>High</th>\n",
       "      <th>Low</th>\n",
       "      <th>Last</th>\n",
       "      <th>Close</th>\n",
       "      <th>VWAP</th>\n",
       "      <th>Volume</th>\n",
       "      <th>Turnover</th>\n",
       "      <th>Trades</th>\n",
       "      <th>Deliverable Volume</th>\n",
       "      <th>%Deliverble</th>\n",
       "      <th>connect</th>\n",
       "    </tr>\n",
       "  </thead>\n",
       "  <tbody>\n",
       "    <tr>\n",
       "      <th>0</th>\n",
       "      <td>2007-11-27</td>\n",
       "      <td>MUNDRAPORT</td>\n",
       "      <td>EQ</td>\n",
       "      <td>440.00</td>\n",
       "      <td>770.00</td>\n",
       "      <td>1050.00</td>\n",
       "      <td>770.0</td>\n",
       "      <td>959.0</td>\n",
       "      <td>962.90</td>\n",
       "      <td>984.72</td>\n",
       "      <td>27294366</td>\n",
       "      <td>$2,687,719,053,785,000.00</td>\n",
       "      <td>NaN</td>\n",
       "      <td>9859619</td>\n",
       "      <td>0.3612</td>\n",
       "      <td>1.0</td>\n",
       "    </tr>\n",
       "    <tr>\n",
       "      <th>1</th>\n",
       "      <td>2007-11-28</td>\n",
       "      <td>MUNDRAPORT</td>\n",
       "      <td>EQ</td>\n",
       "      <td>962.90</td>\n",
       "      <td>984.00</td>\n",
       "      <td>990.00</td>\n",
       "      <td>874.0</td>\n",
       "      <td>885.0</td>\n",
       "      <td>893.90</td>\n",
       "      <td>941.38</td>\n",
       "      <td>4581338</td>\n",
       "      <td>$431,276,530,164,999.00</td>\n",
       "      <td>NaN</td>\n",
       "      <td>1453278</td>\n",
       "      <td>0.3172</td>\n",
       "      <td>NaN</td>\n",
       "    </tr>\n",
       "    <tr>\n",
       "      <th>2</th>\n",
       "      <td>2007-11-29</td>\n",
       "      <td>MUNDRAPORT</td>\n",
       "      <td>EQ</td>\n",
       "      <td>893.90</td>\n",
       "      <td>909.00</td>\n",
       "      <td>914.75</td>\n",
       "      <td>841.0</td>\n",
       "      <td>887.0</td>\n",
       "      <td>884.20</td>\n",
       "      <td>888.09</td>\n",
       "      <td>5124121</td>\n",
       "      <td>$455,065,846,264,999.00</td>\n",
       "      <td>NaN</td>\n",
       "      <td>1069678</td>\n",
       "      <td>0.2088</td>\n",
       "      <td>NaN</td>\n",
       "    </tr>\n",
       "    <tr>\n",
       "      <th>3</th>\n",
       "      <td>2007-11-30</td>\n",
       "      <td>MUNDRAPORT</td>\n",
       "      <td>EQ</td>\n",
       "      <td>884.20</td>\n",
       "      <td>890.00</td>\n",
       "      <td>958.00</td>\n",
       "      <td>890.0</td>\n",
       "      <td>929.0</td>\n",
       "      <td>921.55</td>\n",
       "      <td>929.17</td>\n",
       "      <td>4609762</td>\n",
       "      <td>$428,325,662,830,000.00</td>\n",
       "      <td>NaN</td>\n",
       "      <td>1260913</td>\n",
       "      <td>0.2735</td>\n",
       "      <td>NaN</td>\n",
       "    </tr>\n",
       "    <tr>\n",
       "      <th>4</th>\n",
       "      <td>2007-12-03</td>\n",
       "      <td>MUNDRAPORT</td>\n",
       "      <td>EQ</td>\n",
       "      <td>921.55</td>\n",
       "      <td>939.75</td>\n",
       "      <td>995.00</td>\n",
       "      <td>922.0</td>\n",
       "      <td>980.0</td>\n",
       "      <td>969.30</td>\n",
       "      <td>965.65</td>\n",
       "      <td>2977470</td>\n",
       "      <td>$287,519,974,300,000.00</td>\n",
       "      <td>NaN</td>\n",
       "      <td>816123</td>\n",
       "      <td>0.2741</td>\n",
       "      <td>NaN</td>\n",
       "    </tr>\n",
       "  </tbody>\n",
       "</table>\n",
       "</div>"
      ],
      "text/plain": [
       "        Date      Symbol Series  Prev Close    Open     High    Low   Last  \\\n",
       "0 2007-11-27  MUNDRAPORT     EQ      440.00  770.00  1050.00  770.0  959.0   \n",
       "1 2007-11-28  MUNDRAPORT     EQ      962.90  984.00   990.00  874.0  885.0   \n",
       "2 2007-11-29  MUNDRAPORT     EQ      893.90  909.00   914.75  841.0  887.0   \n",
       "3 2007-11-30  MUNDRAPORT     EQ      884.20  890.00   958.00  890.0  929.0   \n",
       "4 2007-12-03  MUNDRAPORT     EQ      921.55  939.75   995.00  922.0  980.0   \n",
       "\n",
       "    Close    VWAP    Volume                    Turnover  Trades  \\\n",
       "0  962.90  984.72  27294366  $2,687,719,053,785,000.00      NaN   \n",
       "1  893.90  941.38   4581338    $431,276,530,164,999.00      NaN   \n",
       "2  884.20  888.09   5124121    $455,065,846,264,999.00      NaN   \n",
       "3  921.55  929.17   4609762    $428,325,662,830,000.00      NaN   \n",
       "4  969.30  965.65   2977470    $287,519,974,300,000.00      NaN   \n",
       "\n",
       "   Deliverable Volume  %Deliverble  connect  \n",
       "0             9859619       0.3612      1.0  \n",
       "1             1453278       0.3172      NaN  \n",
       "2             1069678       0.2088      NaN  \n",
       "3             1260913       0.2735      NaN  \n",
       "4              816123       0.2741      NaN  "
      ]
     },
     "execution_count": 3,
     "metadata": {},
     "output_type": "execute_result"
    }
   ],
   "source": [
    "import pandas as pd\n",
    "import numpy as np\n",
    "\n",
    "data = pd.read_csv('D:/DATASET/STOCK_DATA/ADANIPORTS.csv')\n",
    "data['Date'] = pd.to_datetime(data['Date'])\n",
    "data = data.sort_values('Date')\n",
    "data.head()"
   ]
  },
  {
   "cell_type": "code",
   "execution_count": 4,
   "id": "328957d3-bb22-43b7-b790-6a3faec2ecfe",
   "metadata": {},
   "outputs": [
    {
     "data": {
      "text/plain": [
       "Symbol\n",
       "ADANIPORTS    2299\n",
       "MUNDRAPORT    1023\n",
       "Name: count, dtype: int64"
      ]
     },
     "execution_count": 4,
     "metadata": {},
     "output_type": "execute_result"
    }
   ],
   "source": [
    "data.Symbol.value_counts()"
   ]
  },
  {
   "cell_type": "code",
   "execution_count": 5,
   "id": "529b9e99-19ee-4ac7-8365-52ff61c22435",
   "metadata": {},
   "outputs": [
    {
     "name": "stdout",
     "output_type": "stream",
     "text": [
      "2021-04-30 00:00:00 ---- 2007-11-27 00:00:00\n"
     ]
    },
    {
     "data": {
      "text/plain": [
       "(3322, 16)"
      ]
     },
     "execution_count": 5,
     "metadata": {},
     "output_type": "execute_result"
    }
   ],
   "source": [
    "print(data.Date.max(),\"----\",data.Date.min())\n",
    "data.shape"
   ]
  },
  {
   "cell_type": "code",
   "execution_count": 6,
   "id": "fc38d272-ea99-4999-bee7-efa3d7069d25",
   "metadata": {},
   "outputs": [
    {
     "data": {
      "text/plain": [
       "Date                     0\n",
       "Symbol                   0\n",
       "Series                   0\n",
       "Prev Close               0\n",
       "Open                     0\n",
       "High                     0\n",
       "Low                      0\n",
       "Last                     0\n",
       "Close                    0\n",
       "VWAP                     0\n",
       "Volume                   0\n",
       "Turnover                 0\n",
       "Trades                 866\n",
       "Deliverable Volume       0\n",
       "%Deliverble              0\n",
       "connect               3321\n",
       "dtype: int64"
      ]
     },
     "execution_count": 6,
     "metadata": {},
     "output_type": "execute_result"
    }
   ],
   "source": [
    "data.isnull().sum()"
   ]
  },
  {
   "cell_type": "code",
   "execution_count": 7,
   "id": "2c3f81b0-1f81-4155-ab21-0a3d292376e5",
   "metadata": {},
   "outputs": [
    {
     "name": "stdout",
     "output_type": "stream",
     "text": [
      "Historical Volatility: 48.21%\n"
     ]
    }
   ],
   "source": [
    "data['Return'] = data['Close'].pct_change()\n",
    "volatility = data['Return'].std() * np.sqrt(252)  # Assuming 252 trading days in a year\n",
    "print(f\"Historical Volatility: {volatility:.2%}\")"
   ]
  },
  {
   "cell_type": "markdown",
   "id": "1d1c24b1-f43e-47c7-b4df-2855fdbd5d88",
   "metadata": {},
   "source": [
    "<head>\n",
    "    <script src=\"https://cdn.jsdelivr.net/npm/mathjax@3/es5/tex-mml-chtml.js\"></script>\n",
    "</head>\n",
    "<body>\n",
    "\n",
    "# Binomial Option Pricing Model\n",
    "\n",
    "It uses an iterative procedure, allowing for the specification of nodes, or points in time, during the time span between the valuation date and the option's expiration date\n",
    "The binomial option pricing model is a technique used to value options by simulating possible paths the underlying asset's price could take over the option's life. It assumes the price of the underlying asset can only move up or down by a certain amount in each time, creating a \"binomial tree\" of possible price movements.\n",
    "# Formula:\n",
    "#  Risk-Neutral probability\n",
    "<ul>\n",
    "<li> S: Current price of the underlying asset.</li>\n",
    "<li>K: Strike price of the option.</li>\n",
    "<li>T: Time to maturity (in years).</li>\n",
    "<li>r: Risk-free interest rate.</li>\n",
    "<li> σ: Volatility of the underlying asset.</li>\n",
    "    <li>N: Number of time steps in the binomial tree.</Li>\n",
    "</ul>\n",
    "   \n",
    "<p>Let \\( S_0 \\) be the current stock price, \\( S_u \\) the stock price in the up state, and \\( S_d \\) the stock price in the down state. The risk-neutral probability \\( p \\) of the up state is given by:</p>\n",
    "\n",
    "<p>\\[ p = \\frac{S_0 - S_d}{S_u - S_d} \\]</p>\n",
    "<p>\n",
    "where:\n",
    "- \\( S_u \\) = Stock price if the market goes up\n",
    "- \\( S_d \\) = Stock price if the market goes down\n",
    "- \\( S_0 \\) = Current stock price</p>\n",
    "\n",
    "# Backward Induction\n",
    "\n",
    "<p>\\[C_t = \\frac{1}{1 + r} \\left( p \\cdot C_{u} + (1 - p) \\cdot C_{d} \\right)\\]\n",
    "</p>\n",
    "</body>"
   ]
  },
  {
   "cell_type": "code",
   "execution_count": 14,
   "id": "5cec6bef-2286-4ee0-9db5-9e398fdf9a86",
   "metadata": {},
   "outputs": [],
   "source": [
    "class BiT:\n",
    "    def __init__(self, last_price, strike_price, Time, risk_free, volatility, N):\n",
    "        self.S = last_price\n",
    "        self.K = strike_price\n",
    "        self.T = Time \n",
    "        self.r = risk_free \n",
    "        self.sigma = volatility \n",
    "        self.N = N \n",
    "        self.probability_factor()\n",
    "        \n",
    "    def probability_factor(self):\n",
    "        self.dt = self.T / self.N  # Time step\n",
    "        self.u = np.exp(self.sigma * np.sqrt(self.dt))  # Up factor\n",
    "        self.d = 1 / self.u  # Down factor\n",
    "        self.p = (np.exp(self.r * self.dt) - self.d) / (self.u - self.d)  # Risk-neutral probability\n",
    "\n",
    "    def option(self,option_type):\n",
    "        \n",
    "        asset_prices = np.zeros((self.N + 1, self.N + 1))\n",
    "        for i in range(self.N + 1):\n",
    "            for j in range(i + 1):\n",
    "                asset_prices[j, i] = self.S * (self.u ** (i - j)) * (self.d ** j)\n",
    "                \n",
    "        option_values = np.zeros((self.N + 1, self.N + 1))\n",
    "        for j in range(self.N + 1):\n",
    "            if option_type==\"put\": \n",
    "                option_values[j, self.N] = max(0, self.K - asset_prices[j, self.N]) \n",
    "            elif option_type==\"call\":\n",
    "                option_values[j, self.N] = max(0, asset_prices[j, self.N] - self.K)\n",
    "            else:\n",
    "                raise Exception(\"only two option are aviaable eithier `put` or `call`\" )\n",
    "                \n",
    "\n",
    "        # Backward induction\n",
    "        for i in range(self.N - 1, -1, -1):\n",
    "            for j in range(i + 1):\n",
    "                option_values[j, i] = np.exp(-self.r * self.dt) * (self.p * option_values[j, i + 1] + (1 - self.p) * option_values[j + 1, i + 1])\n",
    "\n",
    "        option_price = option_values[0, 0]\n",
    "        print(f\"The call option price is: {option_price:.2f}\")\n",
    "        return option_values\n",
    "\n"
   ]
  },
  {
   "cell_type": "code",
   "execution_count": 17,
   "id": "fadb4763-fcc4-42c0-8429-56288f6144cb",
   "metadata": {},
   "outputs": [
    {
     "name": "stdout",
     "output_type": "stream",
     "text": [
      "The call option price is: 125.03\n",
      "144.05\n",
      "[[125.02541151 156.20065201 194.19057696 240.4778276  296.86755864\n",
      "  365.55759298 449.22383681]\n",
      " [  0.          99.13002686 124.70567799 155.87824291 193.8654699\n",
      "  240.14999999 296.53698771]\n",
      " [  0.           0.          77.83137433  98.80761776 124.38057092\n",
      "  155.5504153  193.53489897]\n",
      " [  0.           0.           0.          60.30794585  77.50626726\n",
      "   98.47979015 124.05      ]\n",
      " [  0.           0.           0.           0.          45.88500312\n",
      "   59.98011824  77.17569634]\n",
      " [  0.           0.           0.           0.           0.\n",
      "   34.00835547  45.5544322 ]\n",
      " [  0.           0.           0.           0.           0.\n",
      "    0.          24.22282261]]\n"
     ]
    }
   ],
   "source": [
    "last_price= data[data.Date.dt.year==2010]['Close'].iloc[-1]\n",
    "N=6\n",
    "risk_free=0.05\n",
    "Time=1\n",
    "strike_price=20\n",
    "bit = BiT(last_price, strike_price, Time, risk_free, volatility, N)\n",
    "values=bit.option(\"call\")\n",
    "print(last_price)\n",
    "print(values)"
   ]
  },
  {
   "cell_type": "code",
   "execution_count": 18,
   "id": "6f5cec21-1555-4e81-bfab-37d932a77fea",
   "metadata": {},
   "outputs": [
    {
     "data": {
      "text/html": [
       "<div>\n",
       "<style scoped>\n",
       "    .dataframe tbody tr th:only-of-type {\n",
       "        vertical-align: middle;\n",
       "    }\n",
       "\n",
       "    .dataframe tbody tr th {\n",
       "        vertical-align: top;\n",
       "    }\n",
       "\n",
       "    .dataframe thead th {\n",
       "        text-align: right;\n",
       "    }\n",
       "</style>\n",
       "<table border=\"1\" class=\"dataframe\">\n",
       "  <thead>\n",
       "    <tr style=\"text-align: right;\">\n",
       "      <th></th>\n",
       "      <th>0</th>\n",
       "      <th>1</th>\n",
       "      <th>2</th>\n",
       "      <th>3</th>\n",
       "      <th>4</th>\n",
       "      <th>5</th>\n",
       "      <th>6</th>\n",
       "    </tr>\n",
       "  </thead>\n",
       "  <tbody>\n",
       "    <tr>\n",
       "      <th>0</th>\n",
       "      <td>125.025412</td>\n",
       "      <td>156.200652</td>\n",
       "      <td>194.190577</td>\n",
       "      <td>240.477828</td>\n",
       "      <td>296.867559</td>\n",
       "      <td>365.557593</td>\n",
       "      <td>449.223837</td>\n",
       "    </tr>\n",
       "    <tr>\n",
       "      <th>1</th>\n",
       "      <td>0.000000</td>\n",
       "      <td>99.130027</td>\n",
       "      <td>124.705678</td>\n",
       "      <td>155.878243</td>\n",
       "      <td>193.865470</td>\n",
       "      <td>240.150000</td>\n",
       "      <td>296.536988</td>\n",
       "    </tr>\n",
       "    <tr>\n",
       "      <th>2</th>\n",
       "      <td>0.000000</td>\n",
       "      <td>0.000000</td>\n",
       "      <td>77.831374</td>\n",
       "      <td>98.807618</td>\n",
       "      <td>124.380571</td>\n",
       "      <td>155.550415</td>\n",
       "      <td>193.534899</td>\n",
       "    </tr>\n",
       "    <tr>\n",
       "      <th>3</th>\n",
       "      <td>0.000000</td>\n",
       "      <td>0.000000</td>\n",
       "      <td>0.000000</td>\n",
       "      <td>60.307946</td>\n",
       "      <td>77.506267</td>\n",
       "      <td>98.479790</td>\n",
       "      <td>124.050000</td>\n",
       "    </tr>\n",
       "    <tr>\n",
       "      <th>4</th>\n",
       "      <td>0.000000</td>\n",
       "      <td>0.000000</td>\n",
       "      <td>0.000000</td>\n",
       "      <td>0.000000</td>\n",
       "      <td>45.885003</td>\n",
       "      <td>59.980118</td>\n",
       "      <td>77.175696</td>\n",
       "    </tr>\n",
       "    <tr>\n",
       "      <th>5</th>\n",
       "      <td>0.000000</td>\n",
       "      <td>0.000000</td>\n",
       "      <td>0.000000</td>\n",
       "      <td>0.000000</td>\n",
       "      <td>0.000000</td>\n",
       "      <td>34.008355</td>\n",
       "      <td>45.554432</td>\n",
       "    </tr>\n",
       "    <tr>\n",
       "      <th>6</th>\n",
       "      <td>0.000000</td>\n",
       "      <td>0.000000</td>\n",
       "      <td>0.000000</td>\n",
       "      <td>0.000000</td>\n",
       "      <td>0.000000</td>\n",
       "      <td>0.000000</td>\n",
       "      <td>24.222823</td>\n",
       "    </tr>\n",
       "  </tbody>\n",
       "</table>\n",
       "</div>"
      ],
      "text/plain": [
       "            0           1           2           3           4           5  \\\n",
       "0  125.025412  156.200652  194.190577  240.477828  296.867559  365.557593   \n",
       "1    0.000000   99.130027  124.705678  155.878243  193.865470  240.150000   \n",
       "2    0.000000    0.000000   77.831374   98.807618  124.380571  155.550415   \n",
       "3    0.000000    0.000000    0.000000   60.307946   77.506267   98.479790   \n",
       "4    0.000000    0.000000    0.000000    0.000000   45.885003   59.980118   \n",
       "5    0.000000    0.000000    0.000000    0.000000    0.000000   34.008355   \n",
       "6    0.000000    0.000000    0.000000    0.000000    0.000000    0.000000   \n",
       "\n",
       "            6  \n",
       "0  449.223837  \n",
       "1  296.536988  \n",
       "2  193.534899  \n",
       "3  124.050000  \n",
       "4   77.175696  \n",
       "5   45.554432  \n",
       "6   24.222823  "
      ]
     },
     "execution_count": 18,
     "metadata": {},
     "output_type": "execute_result"
    }
   ],
   "source": [
    "# print(pd.DataFrame(values))#.to_csv(\"bit.csv\"))\n",
    "result=pd.DataFrame(values)\n",
    "result"
   ]
  },
  {
   "cell_type": "code",
   "execution_count": null,
   "id": "d1963d53-dd6f-4f0f-b457-aae348473dfd",
   "metadata": {},
   "outputs": [],
   "source": [
    "result.transpose()"
   ]
  },
  {
   "cell_type": "code",
   "execution_count": null,
   "id": "056db608-a488-4020-9ae0-aa6038fdc3cd",
   "metadata": {},
   "outputs": [],
   "source": [
    "arr=[]\n",
    "for i in values.transpose():\n",
    "    level=0\n",
    "    arr.append([])\n",
    "    for j in i:\n",
    "        if j!=0:\n",
    "           arr[level].append(int(j))\n",
    "        level+=1\n"
   ]
  },
  {
   "cell_type": "markdown",
   "id": "bd10aed6-f43c-41cb-966a-ca9e0dccef09",
   "metadata": {},
   "source": [
    "# Binary tree"
   ]
  },
  {
   "cell_type": "code",
   "execution_count": null,
   "id": "206ce944-f561-45a6-810e-7641404c8f1f",
   "metadata": {},
   "outputs": [],
   "source": [
    "class Tree:\n",
    "    def __init__(self, root):\n",
    "        self.root = root\n",
    "        self.left = None\n",
    "        self.right = None\n",
    "\n",
    "def make_tree(arr):\n",
    "    if not arr or not arr[0]:\n",
    "        return None\n",
    "    \n",
    "    root = Tree(arr[0][0])\n",
    "    queue = [(root, 0, 0)]\n",
    "    while queue:\n",
    "        current, level, index = queue.pop(0)\n",
    "        \n",
    "        left_index = 2 * index\n",
    "        right_index = 2 * index + 1\n",
    "        \n",
    "        if level + 1 < len(arr):\n",
    "            if left_index < len(arr[level + 1]):\n",
    "                current.left = Tree(arr[level + 1][left_index])\n",
    "                queue.append((current.left, level + 1, left_index))\n",
    "            if right_index < len(arr[level + 1]):\n",
    "                current.right = Tree(arr[level][right_index+1])\n",
    "                queue.append((current.right, level + 1, right_index))\n",
    "    return root\n",
    "tree=make_tree(arr)\n",
    "tree.right.root"
   ]
  },
  {
   "cell_type": "markdown",
   "id": "c10e1379-b2ea-4377-950a-b30c0338a422",
   "metadata": {},
   "source": [
    "# Binary tree to json file"
   ]
  },
  {
   "cell_type": "code",
   "execution_count": null,
   "id": "67028ed3-2f11-40e4-81d9-40e6cdc95615",
   "metadata": {},
   "outputs": [],
   "source": [
    "def tree_to_json(tree):\n",
    "    if tree is None:\n",
    "        return None\n",
    "    return {\n",
    "        \"name\": tree.root,\n",
    "        \"children\": list(filter(None, [tree_to_json(tree.left), tree_to_json(tree.right)]))\n",
    "    }\n",
    "json_tree=tree_to_json(tree)\n",
    "import json\n",
    "with open('tree.json', 'w') as json_file:\n",
    "    json.dump(json_tree, json_file, indent=4)"
   ]
  },
  {
   "cell_type": "markdown",
   "id": "4a0edae5-6d4e-487d-a97b-827a39169952",
   "metadata": {},
   "source": [
    "final output [tree visualization](https://codepen.io/ertlesil-the-bold/full/poXzPEK) ."
   ]
  },
  {
   "cell_type": "code",
   "execution_count": 19,
   "id": "93d5981b-1516-4481-b740-0e6dae1e2d48",
   "metadata": {},
   "outputs": [
    {
     "data": {
      "text/html": [
       "\n",
       "        <iframe\n",
       "            width=\"1000\"\n",
       "            height=\"1500\"\n",
       "            src=\"https://codepen.io/ertlesil-the-bold/full/poXzPEK\"\n",
       "            frameborder=\"0\"\n",
       "            allowfullscreen\n",
       "            \n",
       "        ></iframe>\n",
       "        "
      ],
      "text/plain": [
       "<IPython.lib.display.IFrame at 0x254562b1190>"
      ]
     },
     "execution_count": 19,
     "metadata": {},
     "output_type": "execute_result"
    }
   ],
   "source": [
    "import IPython as f\n",
    "src=\"https://codepen.io/ertlesil-the-bold/full/poXzPEK\"\n",
    "f.display.IFrame(src,width=1000,height=1500)"
   ]
  },
  {
   "cell_type": "code",
   "execution_count": null,
   "id": "38a719ff-b4e7-410c-859a-33514356702b",
   "metadata": {},
   "outputs": [],
   "source": []
  }
 ],
 "metadata": {
  "kernelspec": {
   "display_name": "Python 3 (ipykernel)",
   "language": "python",
   "name": "python3"
  },
  "language_info": {
   "codemirror_mode": {
    "name": "ipython",
    "version": 3
   },
   "file_extension": ".py",
   "mimetype": "text/x-python",
   "name": "python",
   "nbconvert_exporter": "python",
   "pygments_lexer": "ipython3",
   "version": "3.12.3"
  }
 },
 "nbformat": 4,
 "nbformat_minor": 5
}
